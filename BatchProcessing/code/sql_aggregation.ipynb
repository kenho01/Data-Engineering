{
 "cells": [
  {
   "cell_type": "code",
   "execution_count": 10,
   "id": "b906d733-9d4b-4c06-88ca-1c1c2764ae21",
   "metadata": {},
   "outputs": [],
   "source": [
    "import pyspark\n",
    "from pyspark.sql import functions as F"
   ]
  },
  {
   "cell_type": "code",
   "execution_count": 3,
   "id": "97fa27af-5021-419d-9cb2-e418c7466df1",
   "metadata": {},
   "outputs": [
    {
     "name": "stderr",
     "output_type": "stream",
     "text": [
      "Setting default log level to \"WARN\".\n",
      "To adjust logging level use sc.setLogLevel(newLevel). For SparkR, use setLogLevel(newLevel).\n"
     ]
    },
    {
     "name": "stdout",
     "output_type": "stream",
     "text": [
      "24/09/03 12:12:36 WARN NativeCodeLoader: Unable to load native-hadoop library for your platform... using builtin-java classes where applicable\n",
      "24/09/03 12:12:37 WARN Utils: Service 'SparkUI' could not bind on port 4040. Attempting port 4041.\n"
     ]
    }
   ],
   "source": [
    "from pyspark.sql import SparkSession\n",
    "import pandas as pd\n",
    "from pyspark.sql import types\n",
    "\n",
    "spark = SparkSession.builder \\\n",
    "    .master(\"local[4]\") \\\n",
    "    .appName('spark sql') \\\n",
    "    .getOrCreate()"
   ]
  },
  {
   "cell_type": "code",
   "execution_count": 4,
   "id": "75abf34e-8636-485b-9003-d7cb86452cb4",
   "metadata": {},
   "outputs": [
    {
     "name": "stderr",
     "output_type": "stream",
     "text": [
      "                                                                                \r"
     ]
    }
   ],
   "source": [
    "df_green = spark.read.parquet('data/pq/green/*/*')"
   ]
  },
  {
   "cell_type": "code",
   "execution_count": 6,
   "id": "067fc47a-3245-4584-b8c7-5e1a8dc1e008",
   "metadata": {},
   "outputs": [],
   "source": [
    "df_green = df_green \\\n",
    "    .withColumnRenamed('lpep_pickup_datetime', 'pickup_datetime') \\\n",
    "    .withColumnRenamed('lpep_dropoff_datetime', 'dropoff_datetime')"
   ]
  },
  {
   "cell_type": "code",
   "execution_count": 7,
   "id": "dcc638a4-1be8-4988-8e94-7e27ec2d373b",
   "metadata": {},
   "outputs": [],
   "source": [
    "df_yellow = spark.read.parquet('data/pq/yellow/*/*')"
   ]
  },
  {
   "cell_type": "code",
   "execution_count": 8,
   "id": "1ffb4132-b43a-4970-ba87-420e7e3e3335",
   "metadata": {},
   "outputs": [],
   "source": [
    "df_yellow = df_yellow \\\n",
    "    .withColumnRenamed('tpep_pickup_datetime', 'pickup_datetime') \\\n",
    "    .withColumnRenamed('tpep_dropoff_datetime', 'dropoff_datetime')"
   ]
  },
  {
   "cell_type": "code",
   "execution_count": 9,
   "id": "595d87a6-f0c6-4cd0-b63e-3d31a4cf1b82",
   "metadata": {},
   "outputs": [],
   "source": [
    "common_colums = []\n",
    "\n",
    "yellow_columns = set(df_yellow.columns)\n",
    "\n",
    "for col in df_green.columns:\n",
    "    if col in yellow_columns:\n",
    "        common_colums.append(col)"
   ]
  },
  {
   "cell_type": "code",
   "execution_count": 11,
   "id": "c3f65dc9-a0e3-465b-8c8b-6ed85c2e8d95",
   "metadata": {},
   "outputs": [],
   "source": [
    "df_green_sel = df_green \\\n",
    "    .select(common_colums) \\\n",
    "    .withColumn('service_type', F.lit('green'))"
   ]
  },
  {
   "cell_type": "code",
   "execution_count": 12,
   "id": "c6937c58-7bf1-409b-ad8d-4113c34a8975",
   "metadata": {},
   "outputs": [],
   "source": [
    "df_yellow_sel = df_yellow \\\n",
    "    .select(common_colums) \\\n",
    "    .withColumn('service_type', F.lit('yellow'))"
   ]
  },
  {
   "cell_type": "code",
   "execution_count": 13,
   "id": "d5057351-321e-46dc-80dc-5e9ff2186eb3",
   "metadata": {},
   "outputs": [],
   "source": [
    "df_trips_data = df_green_sel.unionAll(df_yellow_sel)"
   ]
  },
  {
   "cell_type": "code",
   "execution_count": 14,
   "id": "ad75a13d-5c50-4d9b-9882-56d28422b6aa",
   "metadata": {},
   "outputs": [
    {
     "name": "stderr",
     "output_type": "stream",
     "text": [
      "[Stage 3:===========================================>              (9 + 3) / 12]\r"
     ]
    },
    {
     "name": "stdout",
     "output_type": "stream",
     "text": [
      "+------------+--------+\n",
      "|service_type|   count|\n",
      "+------------+--------+\n",
      "|       green| 1734051|\n",
      "|      yellow|24648499|\n",
      "+------------+--------+\n",
      "\n"
     ]
    },
    {
     "name": "stderr",
     "output_type": "stream",
     "text": [
      "                                                                                \r"
     ]
    }
   ],
   "source": [
    "df_trips_data.groupBy('service_type').count().show()"
   ]
  },
  {
   "cell_type": "code",
   "execution_count": 16,
   "id": "29836d29-1895-44a1-8ea6-4a8f545f9fac",
   "metadata": {},
   "outputs": [],
   "source": [
    "df_trips_data.createOrReplaceTempView('trips_data')"
   ]
  },
  {
   "cell_type": "code",
   "execution_count": 17,
   "id": "02b87c2f-6dd0-479d-b930-67a8f6eac8a7",
   "metadata": {},
   "outputs": [],
   "source": [
    "# Aggregation based on zone and month\n",
    "df_result = spark.sql(\"\"\"\n",
    "SELECT \n",
    "    -- Reveneue grouping \n",
    "    PULocationID AS revenue_zone,\n",
    "    date_trunc('month', pickup_datetime) AS revenue_month, \n",
    "    service_type, \n",
    "\n",
    "    -- Revenue calculation \n",
    "    SUM(fare_amount) AS revenue_monthly_fare,\n",
    "    SUM(extra) AS revenue_monthly_extra,\n",
    "    SUM(mta_tax) AS revenue_monthly_mta_tax,\n",
    "    SUM(tip_amount) AS revenue_monthly_tip_amount,\n",
    "    SUM(tolls_amount) AS revenue_monthly_tolls_amount,\n",
    "    SUM(improvement_surcharge) AS revenue_monthly_improvement_surcharge,\n",
    "    SUM(total_amount) AS revenue_monthly_total_amount,\n",
    "    SUM(congestion_surcharge) AS revenue_monthly_congestion_surcharge,\n",
    "\n",
    "    -- Additional calculations\n",
    "    AVG(passenger_count) AS avg_montly_passenger_count,\n",
    "    AVG(trip_distance) AS avg_montly_trip_distance\n",
    "FROM\n",
    "    trips_data\n",
    "GROUP BY\n",
    "    1, 2, 3\n",
    "\"\"\")"
   ]
  },
  {
   "cell_type": "code",
   "execution_count": 19,
   "id": "5ec41c75-e4f6-47af-8c93-bd5049cfb28e",
   "metadata": {},
   "outputs": [
    {
     "name": "stderr",
     "output_type": "stream",
     "text": [
      "[Stage 9:====================================================>    (11 + 1) / 12]\r"
     ]
    },
    {
     "name": "stdout",
     "output_type": "stream",
     "text": [
      "-RECORD 0----------------------------------------------------\n",
      " revenue_zone                          | 250                 \n",
      " revenue_month                         | 2020-02-01 00:00:00 \n",
      " service_type                          | green               \n",
      " revenue_monthly_fare                  | 15359.960000000061  \n",
      " revenue_monthly_extra                 | 1282.5              \n",
      " revenue_monthly_mta_tax               | 117.5               \n",
      " revenue_monthly_tip_amount            | 56.01               \n",
      " revenue_monthly_tolls_amount          | 590.3200000000003   \n",
      " revenue_monthly_improvement_surcharge | 180.0000000000011   \n",
      " revenue_monthly_total_amount          | 17598.43999999995   \n",
      " revenue_monthly_congestion_surcharge  | 11.0                \n",
      " avg_montly_passenger_count            | 1.2394957983193278  \n",
      " avg_montly_trip_distance              | 4.962810650887575   \n",
      "-RECORD 1----------------------------------------------------\n",
      " revenue_zone                          | 158                 \n",
      " revenue_month                         | 2020-02-01 00:00:00 \n",
      " service_type                          | green               \n",
      " revenue_monthly_fare                  | 124.36              \n",
      " revenue_monthly_extra                 | 8.25                \n",
      " revenue_monthly_mta_tax               | 0.5                 \n",
      " revenue_monthly_tip_amount            | 0.0                 \n",
      " revenue_monthly_tolls_amount          | 2.8                 \n",
      " revenue_monthly_improvement_surcharge | 0.8999999999999999  \n",
      " revenue_monthly_total_amount          | 136.81              \n",
      " revenue_monthly_congestion_surcharge  | null                \n",
      " avg_montly_passenger_count            | null                \n",
      " avg_montly_trip_distance              | 11.090000000000002  \n",
      "-RECORD 2----------------------------------------------------\n",
      " revenue_zone                          | 15                  \n",
      " revenue_month                         | 2020-03-01 00:00:00 \n",
      " service_type                          | green               \n",
      " revenue_monthly_fare                  | 1682.2299999999998  \n",
      " revenue_monthly_extra                 | 5.5                 \n",
      " revenue_monthly_mta_tax               | 6.5                 \n",
      " revenue_monthly_tip_amount            | 0.0                 \n",
      " revenue_monthly_tolls_amount          | 79.55999999999999   \n",
      " revenue_monthly_improvement_surcharge | 19.800000000000015  \n",
      " revenue_monthly_total_amount          | 1802.4399999999996  \n",
      " revenue_monthly_congestion_surcharge  | 0.0                 \n",
      " avg_montly_passenger_count            | 1.0                 \n",
      " avg_montly_trip_distance              | 7.910298507462687   \n",
      "-RECORD 3----------------------------------------------------\n",
      " revenue_zone                          | 229                 \n",
      " revenue_month                         | 2020-03-01 00:00:00 \n",
      " service_type                          | green               \n",
      " revenue_monthly_fare                  | 676.3599999999999   \n",
      " revenue_monthly_extra                 | 0.0                 \n",
      " revenue_monthly_mta_tax               | 1.0                 \n",
      " revenue_monthly_tip_amount            | 0.0                 \n",
      " revenue_monthly_tolls_amount          | 42.84               \n",
      " revenue_monthly_improvement_surcharge | 8.099999999999998   \n",
      " revenue_monthly_total_amount          | 728.3               \n",
      " revenue_monthly_congestion_surcharge  | 0.0                 \n",
      " avg_montly_passenger_count            | 1.0                 \n",
      " avg_montly_trip_distance              | 7.691111111111111   \n",
      "-RECORD 4----------------------------------------------------\n",
      " revenue_zone                          | 152                 \n",
      " revenue_month                         | 2020-02-01 00:00:00 \n",
      " service_type                          | green               \n",
      " revenue_monthly_fare                  | 37630.82            \n",
      " revenue_monthly_extra                 | 1541.25             \n",
      " revenue_monthly_mta_tax               | 1398.5              \n",
      " revenue_monthly_tip_amount            | 2836.6600000000035  \n",
      " revenue_monthly_tolls_amount          | 538.3700000000003   \n",
      " revenue_monthly_improvement_surcharge | 903.8999999999543   \n",
      " revenue_monthly_total_amount          | 45984.60000000085   \n",
      " revenue_monthly_congestion_surcharge  | 1336.25             \n",
      " avg_montly_passenger_count            | 1.2240055826936498  \n",
      " avg_montly_trip_distance              | 2.72640336678537    \n",
      "-RECORD 5----------------------------------------------------\n",
      " revenue_zone                          | 136                 \n",
      " revenue_month                         | 2020-03-01 00:00:00 \n",
      " service_type                          | green               \n",
      " revenue_monthly_fare                  | 12226.929999999998  \n",
      " revenue_monthly_extra                 | 60.5                \n",
      " revenue_monthly_mta_tax               | 89.5                \n",
      " revenue_monthly_tip_amount            | 32.160000000000004  \n",
      " revenue_monthly_tolls_amount          | 485.2000000000002   \n",
      " revenue_monthly_improvement_surcharge | 163.19999999999916  \n",
      " revenue_monthly_total_amount          | 13123.940000000002  \n",
      " revenue_monthly_congestion_surcharge  | 8.25                \n",
      " avg_montly_passenger_count            | 1.1637426900584795  \n",
      " avg_montly_trip_distance              | 6.487297297297297   \n",
      "-RECORD 6----------------------------------------------------\n",
      " revenue_zone                          | 119                 \n",
      " revenue_month                         | 2020-03-01 00:00:00 \n",
      " service_type                          | green               \n",
      " revenue_monthly_fare                  | 11026.2             \n",
      " revenue_monthly_extra                 | 100.5               \n",
      " revenue_monthly_mta_tax               | 108.5               \n",
      " revenue_monthly_tip_amount            | 40.459999999999994  \n",
      " revenue_monthly_tolls_amount          | 525.8000000000002   \n",
      " revenue_monthly_improvement_surcharge | 155.99999999999923  \n",
      " revenue_monthly_total_amount          | 12021.460000000017  \n",
      " revenue_monthly_congestion_surcharge  | 8.25                \n",
      " avg_montly_passenger_count            | 1.0924369747899159  \n",
      " avg_montly_trip_distance              | 5.552723880597019   \n",
      "-RECORD 7----------------------------------------------------\n",
      " revenue_zone                          | 153                 \n",
      " revenue_month                         | 2020-03-01 00:00:00 \n",
      " service_type                          | green               \n",
      " revenue_monthly_fare                  | 2039.54             \n",
      " revenue_monthly_extra                 | 15.0                \n",
      " revenue_monthly_mta_tax               | 30.5                \n",
      " revenue_monthly_tip_amount            | 29.789999999999996  \n",
      " revenue_monthly_tolls_amount          | 33.4                \n",
      " revenue_monthly_improvement_surcharge | 34.80000000000004   \n",
      " revenue_monthly_total_amount          | 2204.7799999999984  \n",
      " revenue_monthly_congestion_surcharge  | 0.0                 \n",
      " avg_montly_passenger_count            | 1.1333333333333333  \n",
      " avg_montly_trip_distance              | 4.165042016806724   \n",
      "-RECORD 8----------------------------------------------------\n",
      " revenue_zone                          | 26                  \n",
      " revenue_month                         | 2020-03-01 00:00:00 \n",
      " service_type                          | green               \n",
      " revenue_monthly_fare                  | 9467.539999999999   \n",
      " revenue_monthly_extra                 | 52.5                \n",
      " revenue_monthly_mta_tax               | 52.0                \n",
      " revenue_monthly_tip_amount            | 0.0                 \n",
      " revenue_monthly_tolls_amount          | 184.35000000000002  \n",
      " revenue_monthly_improvement_surcharge | 122.99999999999955  \n",
      " revenue_monthly_total_amount          | 9929.640000000009   \n",
      " revenue_monthly_congestion_surcharge  | 0.0                 \n",
      " avg_montly_passenger_count            | 1.1397849462365592  \n",
      " avg_montly_trip_distance              | 5.237601918465225   \n",
      "-RECORD 9----------------------------------------------------\n",
      " revenue_zone                          | 243                 \n",
      " revenue_month                         | 2019-12-01 00:00:00 \n",
      " service_type                          | green               \n",
      " revenue_monthly_fare                  | 13.99               \n",
      " revenue_monthly_extra                 | 0.0                 \n",
      " revenue_monthly_mta_tax               | 0.0                 \n",
      " revenue_monthly_tip_amount            | 1.0                 \n",
      " revenue_monthly_tolls_amount          | 0.0                 \n",
      " revenue_monthly_improvement_surcharge | 0.3                 \n",
      " revenue_monthly_total_amount          | 15.29               \n",
      " revenue_monthly_congestion_surcharge  | 0.0                 \n",
      " avg_montly_passenger_count            | 1.0                 \n",
      " avg_montly_trip_distance              | 0.0                 \n",
      "-RECORD 10---------------------------------------------------\n",
      " revenue_zone                          | 28                  \n",
      " revenue_month                         | 2020-03-01 00:00:00 \n",
      " service_type                          | green               \n",
      " revenue_monthly_fare                  | 5891.060000000001   \n",
      " revenue_monthly_extra                 | 29.25               \n",
      " revenue_monthly_mta_tax               | 53.0                \n",
      " revenue_monthly_tip_amount            | 80.32               \n",
      " revenue_monthly_tolls_amount          | 195.84              \n",
      " revenue_monthly_improvement_surcharge | 84.29999999999978   \n",
      " revenue_monthly_total_amount          | 6368.820000000008   \n",
      " revenue_monthly_congestion_surcharge  | 2.75                \n",
      " avg_montly_passenger_count            | 1.2043795620437956  \n",
      " avg_montly_trip_distance              | 5.8026027397260265  \n",
      "-RECORD 11---------------------------------------------------\n",
      " revenue_zone                          | 45                  \n",
      " revenue_month                         | 2020-03-01 00:00:00 \n",
      " service_type                          | green               \n",
      " revenue_monthly_fare                  | 2403.3900000000003  \n",
      " revenue_monthly_extra                 | 11.0                \n",
      " revenue_monthly_mta_tax               | 5.0                 \n",
      " revenue_monthly_tip_amount            | 0.0                 \n",
      " revenue_monthly_tolls_amount          | 64.0                \n",
      " revenue_monthly_improvement_surcharge | 21.300000000000015  \n",
      " revenue_monthly_total_amount          | 2506.64             \n",
      " revenue_monthly_congestion_surcharge  | 0.0                 \n",
      " avg_montly_passenger_count            | 1.2                 \n",
      " avg_montly_trip_distance              | 9.125633802816903   \n",
      "-RECORD 12---------------------------------------------------\n",
      " revenue_zone                          | 102                 \n",
      " revenue_month                         | 2020-03-01 00:00:00 \n",
      " service_type                          | green               \n",
      " revenue_monthly_fare                  | 2874.74             \n",
      " revenue_monthly_extra                 | 26.5                \n",
      " revenue_monthly_mta_tax               | 17.5                \n",
      " revenue_monthly_tip_amount            | 40.22               \n",
      " revenue_monthly_tolls_amount          | 104.03999999999999  \n",
      " revenue_monthly_improvement_surcharge | 46.20000000000006   \n",
      " revenue_monthly_total_amount          | 3135.6499999999987  \n",
      " revenue_monthly_congestion_surcharge  | 5.5                 \n",
      " avg_montly_passenger_count            | 1.1481481481481481  \n",
      " avg_montly_trip_distance              | 4.857922077922079   \n",
      "-RECORD 13---------------------------------------------------\n",
      " revenue_zone                          | 20                  \n",
      " revenue_month                         | 2020-01-01 00:00:00 \n",
      " service_type                          | green               \n",
      " revenue_monthly_fare                  | 11375.42            \n",
      " revenue_monthly_extra                 | 681.0               \n",
      " revenue_monthly_mta_tax               | 131.0               \n",
      " revenue_monthly_tip_amount            | 90.61999999999999   \n",
      " revenue_monthly_tolls_amount          | 479.8600000000003   \n",
      " revenue_monthly_improvement_surcharge | 147.29999999999987  \n",
      " revenue_monthly_total_amount          | 12923.199999999997  \n",
      " revenue_monthly_congestion_surcharge  | 11.0                \n",
      " avg_montly_passenger_count            | 1.2297872340425533  \n",
      " avg_montly_trip_distance              | 4.872311926605508   \n",
      "-RECORD 14---------------------------------------------------\n",
      " revenue_zone                          | 130                 \n",
      " revenue_month                         | 2020-03-01 00:00:00 \n",
      " service_type                          | green               \n",
      " revenue_monthly_fare                  | 60166.09999999998   \n",
      " revenue_monthly_extra                 | 1436.5              \n",
      " revenue_monthly_mta_tax               | 1759.0              \n",
      " revenue_monthly_tip_amount            | 4972.700000000003   \n",
      " revenue_monthly_tolls_amount          | 731.1700000000004   \n",
      " revenue_monthly_improvement_surcharge | 1234.1999999999578  \n",
      " revenue_monthly_total_amount          | 70458.4700000013    \n",
      " revenue_monthly_congestion_surcharge  | 74.25               \n",
      " avg_montly_passenger_count            | 1.1157574079202437  \n",
      " avg_montly_trip_distance              | 3.873904420549579   \n",
      "-RECORD 15---------------------------------------------------\n",
      " revenue_zone                          | 18                  \n",
      " revenue_month                         | 2020-03-01 00:00:00 \n",
      " service_type                          | green               \n",
      " revenue_monthly_fare                  | 9502.129999999997   \n",
      " revenue_monthly_extra                 | 69.5                \n",
      " revenue_monthly_mta_tax               | 100.0               \n",
      " revenue_monthly_tip_amount            | 78.06               \n",
      " revenue_monthly_tolls_amount          | 414.1400000000002   \n",
      " revenue_monthly_improvement_surcharge | 136.19999999999942  \n",
      " revenue_monthly_total_amount          | 10401.980000000023  \n",
      " revenue_monthly_congestion_surcharge  | 5.5                 \n",
      " avg_montly_passenger_count            | 1.1727272727272726  \n",
      " avg_montly_trip_distance              | 5.481708860759494   \n",
      "-RECORD 16---------------------------------------------------\n",
      " revenue_zone                          | 12                  \n",
      " revenue_month                         | 2020-01-01 00:00:00 \n",
      " service_type                          | green               \n",
      " revenue_monthly_fare                  | 161.01              \n",
      " revenue_monthly_extra                 | 5.5                 \n",
      " revenue_monthly_mta_tax               | 1.0                 \n",
      " revenue_monthly_tip_amount            | 0.0                 \n",
      " revenue_monthly_tolls_amount          | 12.24               \n",
      " revenue_monthly_improvement_surcharge | 1.2                 \n",
      " revenue_monthly_total_amount          | 180.95              \n",
      " revenue_monthly_congestion_surcharge  | null                \n",
      " avg_montly_passenger_count            | null                \n",
      " avg_montly_trip_distance              | 0.7150000000000007  \n",
      "-RECORD 17---------------------------------------------------\n",
      " revenue_zone                          | 248                 \n",
      " revenue_month                         | 2019-12-01 00:00:00 \n",
      " service_type                          | green               \n",
      " revenue_monthly_fare                  | 10.0                \n",
      " revenue_monthly_extra                 | 0.5                 \n",
      " revenue_monthly_mta_tax               | 0.5                 \n",
      " revenue_monthly_tip_amount            | 0.0                 \n",
      " revenue_monthly_tolls_amount          | 0.0                 \n",
      " revenue_monthly_improvement_surcharge | 0.3                 \n",
      " revenue_monthly_total_amount          | 11.3                \n",
      " revenue_monthly_congestion_surcharge  | 0.0                 \n",
      " avg_montly_passenger_count            | 1.0                 \n",
      " avg_montly_trip_distance              | 2.9                 \n",
      "-RECORD 18---------------------------------------------------\n",
      " revenue_zone                          | 182                 \n",
      " revenue_month                         | 2020-02-01 00:00:00 \n",
      " service_type                          | green               \n",
      " revenue_monthly_fare                  | 19047.14000000002   \n",
      " revenue_monthly_extra                 | 1493.0              \n",
      " revenue_monthly_mta_tax               | 183.5               \n",
      " revenue_monthly_tip_amount            | 209.7599999999999   \n",
      " revenue_monthly_tolls_amount          | 676.0000000000005   \n",
      " revenue_monthly_improvement_surcharge | 267.0000000000044   \n",
      " revenue_monthly_total_amount          | 21901.749999999894  \n",
      " revenue_monthly_congestion_surcharge  | 16.5                \n",
      " avg_montly_passenger_count            | 1.275053304904051   \n",
      " avg_montly_trip_distance              | 4.03510183299389    \n",
      "-RECORD 19---------------------------------------------------\n",
      " revenue_zone                          | 53                  \n",
      " revenue_month                         | 2020-03-01 00:00:00 \n",
      " service_type                          | green               \n",
      " revenue_monthly_fare                  | 2382.3              \n",
      " revenue_monthly_extra                 | 15.25               \n",
      " revenue_monthly_mta_tax               | 19.5                \n",
      " revenue_monthly_tip_amount            | 54.99               \n",
      " revenue_monthly_tolls_amount          | 76.24000000000001   \n",
      " revenue_monthly_improvement_surcharge | 30.60000000000003   \n",
      " revenue_monthly_total_amount          | 2581.6299999999997  \n",
      " revenue_monthly_congestion_surcharge  | 5.5                 \n",
      " avg_montly_passenger_count            | 1.1136363636363635  \n",
      " avg_montly_trip_distance              | 6.585048543689321   \n",
      "only showing top 20 rows\n",
      "\n"
     ]
    },
    {
     "name": "stderr",
     "output_type": "stream",
     "text": [
      "                                                                                \r"
     ]
    }
   ],
   "source": [
    "df_result.show(vertical=True)"
   ]
  },
  {
   "cell_type": "code",
   "execution_count": 20,
   "id": "da3ddc15-bc0f-4fc2-b951-840a9ece4bb8",
   "metadata": {},
   "outputs": [
    {
     "name": "stderr",
     "output_type": "stream",
     "text": [
      "                                                                                \r"
     ]
    }
   ],
   "source": [
    "# Combine partitions into a single parquet file\n",
    "df_result.coalesce(1).write.parquet('data/report/revenue/', mode='overwrite')"
   ]
  },
  {
   "cell_type": "code",
   "execution_count": null,
   "id": "1334f436-b2bb-4a57-8a98-4c5c3e9f5763",
   "metadata": {},
   "outputs": [],
   "source": []
  }
 ],
 "metadata": {
  "kernelspec": {
   "display_name": "Python 3 (ipykernel)",
   "language": "python",
   "name": "python3"
  },
  "language_info": {
   "codemirror_mode": {
    "name": "ipython",
    "version": 3
   },
   "file_extension": ".py",
   "mimetype": "text/x-python",
   "name": "python",
   "nbconvert_exporter": "python",
   "pygments_lexer": "ipython3",
   "version": "3.11.7"
  }
 },
 "nbformat": 4,
 "nbformat_minor": 5
}
