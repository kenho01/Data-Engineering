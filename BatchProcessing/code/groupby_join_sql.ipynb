{
 "cells": [
  {
   "cell_type": "code",
   "execution_count": 1,
   "id": "c8be8310-7d42-419a-9dbb-bab8a5eba6c4",
   "metadata": {},
   "outputs": [
    {
     "name": "stderr",
     "output_type": "stream",
     "text": [
      "Setting default log level to \"WARN\".\n",
      "To adjust logging level use sc.setLogLevel(newLevel). For SparkR, use setLogLevel(newLevel).\n"
     ]
    },
    {
     "name": "stdout",
     "output_type": "stream",
     "text": [
      "24/09/03 12:20:18 WARN NativeCodeLoader: Unable to load native-hadoop library for your platform... using builtin-java classes where applicable\n",
      "24/09/03 12:20:20 WARN Utils: Service 'SparkUI' could not bind on port 4040. Attempting port 4041.\n",
      "24/09/03 12:20:20 WARN Utils: Service 'SparkUI' could not bind on port 4041. Attempting port 4042.\n"
     ]
    }
   ],
   "source": [
    "import pyspark\n",
    "from pyspark.sql import SparkSession\n",
    "\n",
    "spark = SparkSession.builder \\\n",
    "    .master(\"local[*]\") \\\n",
    "    .appName('groupby and join in sql') \\\n",
    "    .getOrCreate()"
   ]
  },
  {
   "cell_type": "code",
   "execution_count": 2,
   "id": "4eff356a-be97-40c3-86ed-f72438648524",
   "metadata": {},
   "outputs": [
    {
     "name": "stderr",
     "output_type": "stream",
     "text": [
      "                                                                                \r"
     ]
    }
   ],
   "source": [
    "df_green = spark.read.parquet('data/pq/green/*/*')"
   ]
  },
  {
   "cell_type": "code",
   "execution_count": 3,
   "id": "ab451d9a-c583-4f0f-b4c9-005b9e8c24a8",
   "metadata": {},
   "outputs": [],
   "source": [
    "df_green.createOrReplaceTempView('green')"
   ]
  },
  {
   "cell_type": "code",
   "execution_count": 4,
   "id": "ef91cf29-ad95-4512-9281-ca06f7ffbbf7",
   "metadata": {},
   "outputs": [],
   "source": [
    "df_green_revenue = spark.sql(\"\"\"\n",
    "SELECT \n",
    "    date_trunc('hour', lpep_pickup_datetime) AS hour, \n",
    "    PULocationID AS zone,\n",
    "\n",
    "    SUM(total_amount) AS amount,\n",
    "    COUNT(1) AS number_records\n",
    "FROM\n",
    "    green\n",
    "WHERE\n",
    "    lpep_pickup_datetime >= '2020-01-01 00:00:00'\n",
    "GROUP BY\n",
    "    1, 2\n",
    "\"\"\")"
   ]
  },
  {
   "cell_type": "code",
   "execution_count": 5,
   "id": "f36bbeb9-03a2-4efd-8f10-e45b8902cceb",
   "metadata": {},
   "outputs": [
    {
     "name": "stderr",
     "output_type": "stream",
     "text": [
      "                                                                                \r"
     ]
    }
   ],
   "source": [
    "df_green_revenue \\\n",
    "    .repartition(20) \\\n",
    "    .write.parquet('data/report/revenue/green', mode='overwrite')"
   ]
  },
  {
   "cell_type": "code",
   "execution_count": 6,
   "id": "a070bfe8-5546-49b6-b999-260fd8567066",
   "metadata": {},
   "outputs": [],
   "source": [
    "df_yellow = spark.read.parquet('data/pq/yellow/*/*')\n",
    "df_yellow.createOrReplaceTempView('yellow')"
   ]
  },
  {
   "cell_type": "code",
   "execution_count": 7,
   "id": "85f7ab9a-39f1-4092-9ada-1305fb71381a",
   "metadata": {},
   "outputs": [],
   "source": [
    "df_yellow_revenue = spark.sql(\"\"\"\n",
    "SELECT \n",
    "    date_trunc('hour', tpep_pickup_datetime) AS hour, \n",
    "    PULocationID AS zone,\n",
    "\n",
    "    SUM(total_amount) AS amount,\n",
    "    COUNT(1) AS number_records\n",
    "FROM\n",
    "    yellow\n",
    "WHERE\n",
    "    tpep_pickup_datetime >= '2020-01-01 00:00:00'\n",
    "GROUP BY\n",
    "    1, 2\n",
    "\"\"\")\n"
   ]
  },
  {
   "cell_type": "code",
   "execution_count": 8,
   "id": "bc45a93d-a22d-4ed0-a40c-447cd00936b4",
   "metadata": {},
   "outputs": [
    {
     "name": "stderr",
     "output_type": "stream",
     "text": [
      "                                                                                \r"
     ]
    }
   ],
   "source": [
    "df_yellow_revenue \\\n",
    "    .repartition(20) \\\n",
    "    .write.parquet('data/report/revenue/yellow', mode='overwrite')"
   ]
  },
  {
   "cell_type": "code",
   "execution_count": 9,
   "id": "9da60def-361f-4982-8f01-90ad7c1c3a6a",
   "metadata": {},
   "outputs": [],
   "source": [
    "df_green_revenue = spark.read.parquet('data/report/revenue/green')\n",
    "df_yellow_revenue = spark.read.parquet('data/report/revenue/yellow')"
   ]
  },
  {
   "cell_type": "code",
   "execution_count": 10,
   "id": "c650b95c-947f-475d-9931-332dec1533aa",
   "metadata": {},
   "outputs": [],
   "source": [
    "df_green_revenue_tmp = df_green_revenue \\\n",
    "    .withColumnRenamed('amount', 'green_amount') \\\n",
    "    .withColumnRenamed('number_records', 'green_number_records')\n",
    "\n",
    "df_yellow_revenue_tmp = df_yellow_revenue \\\n",
    "    .withColumnRenamed('amount', 'yellow_amount') \\\n",
    "    .withColumnRenamed('number_records', 'yellow_number_records')"
   ]
  },
  {
   "cell_type": "code",
   "execution_count": 11,
   "id": "1c22c77f-6376-4c8a-8802-5a70b6bc5b4d",
   "metadata": {},
   "outputs": [],
   "source": [
    "df_join = df_green_revenue_tmp.join(df_yellow_revenue_tmp, on=['hour', 'zone'], how='outer')"
   ]
  },
  {
   "cell_type": "code",
   "execution_count": 12,
   "id": "5ad2c7b5-8009-4752-a947-654a59c72700",
   "metadata": {},
   "outputs": [
    {
     "name": "stderr",
     "output_type": "stream",
     "text": [
      "                                                                                \r"
     ]
    }
   ],
   "source": [
    "df_join.write.parquet('data/report/revenue/total', mode='overwrite')"
   ]
  },
  {
   "cell_type": "code",
   "execution_count": 13,
   "id": "34e8e135-dd1d-4bf7-af85-8d346ea4bf22",
   "metadata": {},
   "outputs": [],
   "source": [
    "df_join = spark.read.parquet('data/report/revenue/total')"
   ]
  },
  {
   "cell_type": "code",
   "execution_count": 14,
   "id": "c583bffe-e2e8-4d05-82f8-5c72f2395b7e",
   "metadata": {},
   "outputs": [
    {
     "name": "stdout",
     "output_type": "stream",
     "text": [
      "-RECORD 0------------------------------------\n",
      " hour                  | 2020-01-01 00:00:00 \n",
      " zone                  | 14                  \n",
      " green_amount          | null                \n",
      " green_number_records  | null                \n",
      " yellow_amount         | 8.8                 \n",
      " yellow_number_records | 1                   \n",
      "-RECORD 1------------------------------------\n",
      " hour                  | 2020-01-01 00:00:00 \n",
      " zone                  | 15                  \n",
      " green_amount          | null                \n",
      " green_number_records  | null                \n",
      " yellow_amount         | 34.09               \n",
      " yellow_number_records | 1                   \n",
      "-RECORD 2------------------------------------\n",
      " hour                  | 2020-01-01 00:00:00 \n",
      " zone                  | 17                  \n",
      " green_amount          | 195.03000000000003  \n",
      " green_number_records  | 9                   \n",
      " yellow_amount         | 220.20999999999998  \n",
      " yellow_number_records | 8                   \n",
      "-RECORD 3------------------------------------\n",
      " hour                  | 2020-01-01 00:00:00 \n",
      " zone                  | 25                  \n",
      " green_amount          | 531.0000000000002   \n",
      " green_number_records  | 26                  \n",
      " yellow_amount         | 324.35              \n",
      " yellow_number_records | 16                  \n",
      "-RECORD 4------------------------------------\n",
      " hour                  | 2020-01-01 00:00:00 \n",
      " zone                  | 32                  \n",
      " green_amount          | 68.94999999999999   \n",
      " green_number_records  | 2                   \n",
      " yellow_amount         | 18.0                \n",
      " yellow_number_records | 1                   \n",
      "-RECORD 5------------------------------------\n",
      " hour                  | 2020-01-01 00:00:00 \n",
      " zone                  | 43                  \n",
      " green_amount          | 107.52              \n",
      " green_number_records  | 6                   \n",
      " yellow_amount         | 6539.510000000012   \n",
      " yellow_number_records | 390                 \n",
      "-RECORD 6------------------------------------\n",
      " hour                  | 2020-01-01 00:00:00 \n",
      " zone                  | 49                  \n",
      " green_amount          | 266.76000000000005  \n",
      " green_number_records  | 14                  \n",
      " yellow_amount         | 185.64999999999998  \n",
      " yellow_number_records | 10                  \n",
      "-RECORD 7------------------------------------\n",
      " hour                  | 2020-01-01 00:00:00 \n",
      " zone                  | 59                  \n",
      " green_amount          | 50.9                \n",
      " green_number_records  | 3                   \n",
      " yellow_amount         | null                \n",
      " yellow_number_records | null                \n",
      "-RECORD 8------------------------------------\n",
      " hour                  | 2020-01-01 00:00:00 \n",
      " zone                  | 69                  \n",
      " green_amount          | 11.8                \n",
      " green_number_records  | 1                   \n",
      " yellow_amount         | 106.52              \n",
      " yellow_number_records | 4                   \n",
      "-RECORD 9------------------------------------\n",
      " hour                  | 2020-01-01 00:00:00 \n",
      " zone                  | 71                  \n",
      " green_amount          | 23.8                \n",
      " green_number_records  | 1                   \n",
      " yellow_amount         | null                \n",
      " yellow_number_records | null                \n",
      "-RECORD 10-----------------------------------\n",
      " hour                  | 2020-01-01 00:00:00 \n",
      " zone                  | 72                  \n",
      " green_amount          | 67.53               \n",
      " green_number_records  | 2                   \n",
      " yellow_amount         | null                \n",
      " yellow_number_records | null                \n",
      "-RECORD 11-----------------------------------\n",
      " hour                  | 2020-01-01 00:00:00 \n",
      " zone                  | 75                  \n",
      " green_amount          | 278.14000000000004  \n",
      " green_number_records  | 26                  \n",
      " yellow_amount         | 958.3500000000004   \n",
      " yellow_number_records | 69                  \n",
      "-RECORD 12-----------------------------------\n",
      " hour                  | 2020-01-01 00:00:00 \n",
      " zone                  | 78                  \n",
      " green_amount          | 34.46               \n",
      " green_number_records  | 2                   \n",
      " yellow_amount         | null                \n",
      " yellow_number_records | null                \n",
      "-RECORD 13-----------------------------------\n",
      " hour                  | 2020-01-01 00:00:00 \n",
      " zone                  | 82                  \n",
      " green_amount          | 305.1200000000001   \n",
      " green_number_records  | 28                  \n",
      " yellow_amount         | 29.8                \n",
      " yellow_number_records | 1                   \n",
      "-RECORD 14-----------------------------------\n",
      " hour                  | 2020-01-01 00:00:00 \n",
      " zone                  | 85                  \n",
      " green_amount          | 64.76               \n",
      " green_number_records  | 4                   \n",
      " yellow_amount         | 102.56              \n",
      " yellow_number_records | 3                   \n",
      "-RECORD 15-----------------------------------\n",
      " hour                  | 2020-01-01 00:00:00 \n",
      " zone                  | 87                  \n",
      " green_amount          | null                \n",
      " green_number_records  | null                \n",
      " yellow_amount         | 2456.6699999999987  \n",
      " yellow_number_records | 112                 \n",
      "-RECORD 16-----------------------------------\n",
      " hour                  | 2020-01-01 00:00:00 \n",
      " zone                  | 93                  \n",
      " green_amount          | null                \n",
      " green_number_records  | null                \n",
      " yellow_amount         | 210.28000000000003  \n",
      " yellow_number_records | 3                   \n",
      "-RECORD 17-----------------------------------\n",
      " hour                  | 2020-01-01 00:00:00 \n",
      " zone                  | 107                 \n",
      " green_amount          | null                \n",
      " green_number_records  | null                \n",
      " yellow_amount         | 6441.030000000006   \n",
      " yellow_number_records | 380                 \n",
      "-RECORD 18-----------------------------------\n",
      " hour                  | 2020-01-01 00:00:00 \n",
      " zone                  | 113                 \n",
      " green_amount          | null                \n",
      " green_number_records  | null                \n",
      " yellow_amount         | 3984.319999999998   \n",
      " yellow_number_records | 220                 \n",
      "-RECORD 19-----------------------------------\n",
      " hour                  | 2020-01-01 00:00:00 \n",
      " zone                  | 116                 \n",
      " green_amount          | 328.76              \n",
      " green_number_records  | 18                  \n",
      " yellow_amount         | 561.5100000000001   \n",
      " yellow_number_records | 34                  \n",
      "only showing top 20 rows\n",
      "\n"
     ]
    }
   ],
   "source": [
    "df_join.show(vertical=True)"
   ]
  },
  {
   "cell_type": "code",
   "execution_count": 18,
   "id": "2ee63258-55a6-409e-bafd-199c210bde41",
   "metadata": {},
   "outputs": [],
   "source": [
    "df_zones = spark.read.parquet('zones/')"
   ]
  },
  {
   "cell_type": "code",
   "execution_count": 20,
   "id": "1d097fff-9776-4499-ab2c-5b123890dbf4",
   "metadata": {},
   "outputs": [
    {
     "name": "stdout",
     "output_type": "stream",
     "text": [
      "+----------+-------------+--------------------+------------+\n",
      "|locationid|      borough|                zone|service_zone|\n",
      "+----------+-------------+--------------------+------------+\n",
      "|         1|          EWR|      Newark Airport|         EWR|\n",
      "|         2|       Queens|         Jamaica Bay|   Boro Zone|\n",
      "|         3|        Bronx|Allerton/Pelham G...|   Boro Zone|\n",
      "|         4|    Manhattan|       Alphabet City| Yellow Zone|\n",
      "|         5|Staten Island|       Arden Heights|   Boro Zone|\n",
      "|         6|Staten Island|Arrochar/Fort Wad...|   Boro Zone|\n",
      "|         7|       Queens|             Astoria|   Boro Zone|\n",
      "|         8|       Queens|        Astoria Park|   Boro Zone|\n",
      "|         9|       Queens|          Auburndale|   Boro Zone|\n",
      "|        10|       Queens|        Baisley Park|   Boro Zone|\n",
      "|        11|     Brooklyn|          Bath Beach|   Boro Zone|\n",
      "|        12|    Manhattan|        Battery Park| Yellow Zone|\n",
      "|        13|    Manhattan|   Battery Park City| Yellow Zone|\n",
      "|        14|     Brooklyn|           Bay Ridge|   Boro Zone|\n",
      "|        15|       Queens|Bay Terrace/Fort ...|   Boro Zone|\n",
      "|        16|       Queens|             Bayside|   Boro Zone|\n",
      "|        17|     Brooklyn|             Bedford|   Boro Zone|\n",
      "|        18|        Bronx|        Bedford Park|   Boro Zone|\n",
      "|        19|       Queens|           Bellerose|   Boro Zone|\n",
      "|        20|        Bronx|             Belmont|   Boro Zone|\n",
      "+----------+-------------+--------------------+------------+\n",
      "only showing top 20 rows\n",
      "\n"
     ]
    }
   ],
   "source": [
    "df_zones.show()"
   ]
  },
  {
   "cell_type": "code",
   "execution_count": 21,
   "id": "46d57cad-803a-40c1-b7dc-e7d7e8e7af6a",
   "metadata": {},
   "outputs": [],
   "source": [
    "df_result = df_join.join(df_zones, df_join.zone == df_zones.locationid)"
   ]
  },
  {
   "cell_type": "code",
   "execution_count": 23,
   "id": "2fb38511-7a1a-4813-87d0-aa5f15c93368",
   "metadata": {},
   "outputs": [
    {
     "name": "stdout",
     "output_type": "stream",
     "text": [
      "-RECORD 0-------------------------------------\n",
      " hour                  | 2020-01-01 00:00:00  \n",
      " zone                  | 14                   \n",
      " green_amount          | null                 \n",
      " green_number_records  | null                 \n",
      " yellow_amount         | 8.8                  \n",
      " yellow_number_records | 1                    \n",
      " locationid            | 14                   \n",
      " borough               | Brooklyn             \n",
      " zone                  | Bay Ridge            \n",
      " service_zone          | Boro Zone            \n",
      "-RECORD 1-------------------------------------\n",
      " hour                  | 2020-01-01 00:00:00  \n",
      " zone                  | 15                   \n",
      " green_amount          | null                 \n",
      " green_number_records  | null                 \n",
      " yellow_amount         | 34.09                \n",
      " yellow_number_records | 1                    \n",
      " locationid            | 15                   \n",
      " borough               | Queens               \n",
      " zone                  | Bay Terrace/Fort ... \n",
      " service_zone          | Boro Zone            \n",
      "-RECORD 2-------------------------------------\n",
      " hour                  | 2020-01-01 00:00:00  \n",
      " zone                  | 17                   \n",
      " green_amount          | 195.03000000000003   \n",
      " green_number_records  | 9                    \n",
      " yellow_amount         | 220.20999999999998   \n",
      " yellow_number_records | 8                    \n",
      " locationid            | 17                   \n",
      " borough               | Brooklyn             \n",
      " zone                  | Bedford              \n",
      " service_zone          | Boro Zone            \n",
      "-RECORD 3-------------------------------------\n",
      " hour                  | 2020-01-01 00:00:00  \n",
      " zone                  | 25                   \n",
      " green_amount          | 531.0000000000002    \n",
      " green_number_records  | 26                   \n",
      " yellow_amount         | 324.35               \n",
      " yellow_number_records | 16                   \n",
      " locationid            | 25                   \n",
      " borough               | Brooklyn             \n",
      " zone                  | Boerum Hill          \n",
      " service_zone          | Boro Zone            \n",
      "-RECORD 4-------------------------------------\n",
      " hour                  | 2020-01-01 00:00:00  \n",
      " zone                  | 32                   \n",
      " green_amount          | 68.94999999999999    \n",
      " green_number_records  | 2                    \n",
      " yellow_amount         | 18.0                 \n",
      " yellow_number_records | 1                    \n",
      " locationid            | 32                   \n",
      " borough               | Bronx                \n",
      " zone                  | Bronxdale            \n",
      " service_zone          | Boro Zone            \n",
      "-RECORD 5-------------------------------------\n",
      " hour                  | 2020-01-01 00:00:00  \n",
      " zone                  | 43                   \n",
      " green_amount          | 107.52               \n",
      " green_number_records  | 6                    \n",
      " yellow_amount         | 6539.510000000012    \n",
      " yellow_number_records | 390                  \n",
      " locationid            | 43                   \n",
      " borough               | Manhattan            \n",
      " zone                  | Central Park         \n",
      " service_zone          | Yellow Zone          \n",
      "-RECORD 6-------------------------------------\n",
      " hour                  | 2020-01-01 00:00:00  \n",
      " zone                  | 49                   \n",
      " green_amount          | 266.76000000000005   \n",
      " green_number_records  | 14                   \n",
      " yellow_amount         | 185.64999999999998   \n",
      " yellow_number_records | 10                   \n",
      " locationid            | 49                   \n",
      " borough               | Brooklyn             \n",
      " zone                  | Clinton Hill         \n",
      " service_zone          | Boro Zone            \n",
      "-RECORD 7-------------------------------------\n",
      " hour                  | 2020-01-01 00:00:00  \n",
      " zone                  | 59                   \n",
      " green_amount          | 50.9                 \n",
      " green_number_records  | 3                    \n",
      " yellow_amount         | null                 \n",
      " yellow_number_records | null                 \n",
      " locationid            | 59                   \n",
      " borough               | Bronx                \n",
      " zone                  | Crotona Park         \n",
      " service_zone          | Boro Zone            \n",
      "-RECORD 8-------------------------------------\n",
      " hour                  | 2020-01-01 00:00:00  \n",
      " zone                  | 69                   \n",
      " green_amount          | 11.8                 \n",
      " green_number_records  | 1                    \n",
      " yellow_amount         | 106.52               \n",
      " yellow_number_records | 4                    \n",
      " locationid            | 69                   \n",
      " borough               | Bronx                \n",
      " zone                  | East Concourse/Co... \n",
      " service_zone          | Boro Zone            \n",
      "-RECORD 9-------------------------------------\n",
      " hour                  | 2020-01-01 00:00:00  \n",
      " zone                  | 71                   \n",
      " green_amount          | 23.8                 \n",
      " green_number_records  | 1                    \n",
      " yellow_amount         | null                 \n",
      " yellow_number_records | null                 \n",
      " locationid            | 71                   \n",
      " borough               | Brooklyn             \n",
      " zone                  | East Flatbush/Far... \n",
      " service_zone          | Boro Zone            \n",
      "-RECORD 10------------------------------------\n",
      " hour                  | 2020-01-01 00:00:00  \n",
      " zone                  | 72                   \n",
      " green_amount          | 67.53                \n",
      " green_number_records  | 2                    \n",
      " yellow_amount         | null                 \n",
      " yellow_number_records | null                 \n",
      " locationid            | 72                   \n",
      " borough               | Brooklyn             \n",
      " zone                  | East Flatbush/Rem... \n",
      " service_zone          | Boro Zone            \n",
      "-RECORD 11------------------------------------\n",
      " hour                  | 2020-01-01 00:00:00  \n",
      " zone                  | 75                   \n",
      " green_amount          | 278.14000000000004   \n",
      " green_number_records  | 26                   \n",
      " yellow_amount         | 958.3500000000004    \n",
      " yellow_number_records | 69                   \n",
      " locationid            | 75                   \n",
      " borough               | Manhattan            \n",
      " zone                  | East Harlem South    \n",
      " service_zone          | Boro Zone            \n",
      "-RECORD 12------------------------------------\n",
      " hour                  | 2020-01-01 00:00:00  \n",
      " zone                  | 78                   \n",
      " green_amount          | 34.46                \n",
      " green_number_records  | 2                    \n",
      " yellow_amount         | null                 \n",
      " yellow_number_records | null                 \n",
      " locationid            | 78                   \n",
      " borough               | Bronx                \n",
      " zone                  | East Tremont         \n",
      " service_zone          | Boro Zone            \n",
      "-RECORD 13------------------------------------\n",
      " hour                  | 2020-01-01 00:00:00  \n",
      " zone                  | 82                   \n",
      " green_amount          | 305.1200000000001    \n",
      " green_number_records  | 28                   \n",
      " yellow_amount         | 29.8                 \n",
      " yellow_number_records | 1                    \n",
      " locationid            | 82                   \n",
      " borough               | Queens               \n",
      " zone                  | Elmhurst             \n",
      " service_zone          | Boro Zone            \n",
      "-RECORD 14------------------------------------\n",
      " hour                  | 2020-01-01 00:00:00  \n",
      " zone                  | 85                   \n",
      " green_amount          | 64.76                \n",
      " green_number_records  | 4                    \n",
      " yellow_amount         | 102.56               \n",
      " yellow_number_records | 3                    \n",
      " locationid            | 85                   \n",
      " borough               | Brooklyn             \n",
      " zone                  | Erasmus              \n",
      " service_zone          | Boro Zone            \n",
      "-RECORD 15------------------------------------\n",
      " hour                  | 2020-01-01 00:00:00  \n",
      " zone                  | 87                   \n",
      " green_amount          | null                 \n",
      " green_number_records  | null                 \n",
      " yellow_amount         | 2456.6699999999987   \n",
      " yellow_number_records | 112                  \n",
      " locationid            | 87                   \n",
      " borough               | Manhattan            \n",
      " zone                  | Financial Distric... \n",
      " service_zone          | Yellow Zone          \n",
      "-RECORD 16------------------------------------\n",
      " hour                  | 2020-01-01 00:00:00  \n",
      " zone                  | 93                   \n",
      " green_amount          | null                 \n",
      " green_number_records  | null                 \n",
      " yellow_amount         | 210.28000000000003   \n",
      " yellow_number_records | 3                    \n",
      " locationid            | 93                   \n",
      " borough               | Queens               \n",
      " zone                  | Flushing Meadows-... \n",
      " service_zone          | Boro Zone            \n",
      "-RECORD 17------------------------------------\n",
      " hour                  | 2020-01-01 00:00:00  \n",
      " zone                  | 107                  \n",
      " green_amount          | null                 \n",
      " green_number_records  | null                 \n",
      " yellow_amount         | 6441.030000000006    \n",
      " yellow_number_records | 380                  \n",
      " locationid            | 107                  \n",
      " borough               | Manhattan            \n",
      " zone                  | Gramercy             \n",
      " service_zone          | Yellow Zone          \n",
      "-RECORD 18------------------------------------\n",
      " hour                  | 2020-01-01 00:00:00  \n",
      " zone                  | 113                  \n",
      " green_amount          | null                 \n",
      " green_number_records  | null                 \n",
      " yellow_amount         | 3984.319999999998    \n",
      " yellow_number_records | 220                  \n",
      " locationid            | 113                  \n",
      " borough               | Manhattan            \n",
      " zone                  | Greenwich Village... \n",
      " service_zone          | Yellow Zone          \n",
      "-RECORD 19------------------------------------\n",
      " hour                  | 2020-01-01 00:00:00  \n",
      " zone                  | 116                  \n",
      " green_amount          | 328.76               \n",
      " green_number_records  | 18                   \n",
      " yellow_amount         | 561.5100000000001    \n",
      " yellow_number_records | 34                   \n",
      " locationid            | 116                  \n",
      " borough               | Manhattan            \n",
      " zone                  | Hamilton Heights     \n",
      " service_zone          | Boro Zone            \n",
      "only showing top 20 rows\n",
      "\n"
     ]
    }
   ],
   "source": [
    "df_result.show(vertical=True)"
   ]
  },
  {
   "cell_type": "code",
   "execution_count": 24,
   "id": "4b298e02-c6da-465c-b67c-0e918de43cee",
   "metadata": {},
   "outputs": [
    {
     "name": "stderr",
     "output_type": "stream",
     "text": [
      "                                                                                \r"
     ]
    }
   ],
   "source": [
    "df_result.drop('locationid', 'zone').write.parquet('tmp/revenue-zones')"
   ]
  },
  {
   "cell_type": "code",
   "execution_count": null,
   "id": "4176cc21-0de8-4ac3-af3a-ffde5179eedc",
   "metadata": {},
   "outputs": [],
   "source": []
  }
 ],
 "metadata": {
  "kernelspec": {
   "display_name": "Python 3 (ipykernel)",
   "language": "python",
   "name": "python3"
  },
  "language_info": {
   "codemirror_mode": {
    "name": "ipython",
    "version": 3
   },
   "file_extension": ".py",
   "mimetype": "text/x-python",
   "name": "python",
   "nbconvert_exporter": "python",
   "pygments_lexer": "ipython3",
   "version": "3.11.7"
  }
 },
 "nbformat": 4,
 "nbformat_minor": 5
}
